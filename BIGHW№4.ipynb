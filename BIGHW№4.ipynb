{
 "cells": [
  {
   "cell_type": "code",
   "execution_count": 39,
   "id": "a1805ce9",
   "metadata": {},
   "outputs": [
    {
     "name": "stdout",
     "output_type": "stream",
     "text": [
      "0.36549\n"
     ]
    }
   ],
   "source": [
    "import random\n",
    "n=1000000\n",
    "k=0\n",
    "for i in range (n):\n",
    "    dice1=random.randint(1,6) #случайное целое число\n",
    "    dice2=random.randint(1,6)\n",
    "    sum=dice1+dice2\n",
    "    if sum == 7 or sum == 11:\n",
    "        k+=1\n",
    "    elif sum==2 or  sum==3 or sum==12:\n",
    "        continue    #Оператор continue начинает следующий проход цикла, минуя оставшееся тело цикла (for или while)\n",
    "    else:\n",
    "        for j in range (n):\n",
    "            dice1=random.randint(1,6)\n",
    "            dice2=random.randint(1,6)\n",
    "            sum=dice1+dice2\n",
    "            if sum ==4 or sum ==5 or sum ==6 or sum==8 or sum==9 or sum== 12:\n",
    "                break\n",
    "            elif sum==7:\n",
    "                k+=1\n",
    "                break\n",
    "print(k/n)"
   ]
  },
  {
   "cell_type": "code",
   "execution_count": null,
   "id": "78f4537f",
   "metadata": {},
   "outputs": [],
   "source": []
  },
  {
   "cell_type": "code",
   "execution_count": null,
   "id": "677ced9d",
   "metadata": {},
   "outputs": [],
   "source": []
  },
  {
   "cell_type": "code",
   "execution_count": null,
   "id": "821fe63f",
   "metadata": {},
   "outputs": [],
   "source": []
  }
 ],
 "metadata": {
  "kernelspec": {
   "display_name": "Python 3",
   "language": "python",
   "name": "python3"
  },
  "language_info": {
   "codemirror_mode": {
    "name": "ipython",
    "version": 3
   },
   "file_extension": ".py",
   "mimetype": "text/x-python",
   "name": "python",
   "nbconvert_exporter": "python",
   "pygments_lexer": "ipython3",
   "version": "3.8.8"
  }
 },
 "nbformat": 4,
 "nbformat_minor": 5
}
