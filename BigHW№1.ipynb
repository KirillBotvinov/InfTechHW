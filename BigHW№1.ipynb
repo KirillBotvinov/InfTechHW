{
 "cells": [
  {
   "cell_type": "code",
   "execution_count": 21,
   "id": "4c25b2a3",
   "metadata": {},
   "outputs": [
    {
     "name": "stdout",
     "output_type": "stream",
     "text": [
      "1.0010005001666666\n",
      "1.0030040019999997\n"
     ]
    },
    {
     "data": {
      "text/plain": [
       "1.0010005001667084"
      ]
     },
     "execution_count": 21,
     "metadata": {},
     "output_type": "execute_result"
    }
   ],
   "source": [
    "import math\n",
    "def evaluate(x, a):\n",
    "    res=0    \n",
    "    for i in range (len(a)):\n",
    "        res+=a[i]*pow(x,i)\n",
    "    return(res)\n",
    "mnogochlen=evaluate(0.001,[1,3,4,2])\n",
    "def exp(x,n):\n",
    "    a=[]\n",
    "    res=0\n",
    "    for i in range (n):\n",
    "        a.append(1/math.factorial(i))\n",
    "    return(evaluate(x, a))  \n",
    "print(exp(0.001,4))\n",
    "print(result)\n",
    "math.exp(0.001)"
   ]
  },
  {
   "cell_type": "code",
   "execution_count": null,
   "id": "5503d4da",
   "metadata": {},
   "outputs": [],
   "source": []
  },
  {
   "cell_type": "code",
   "execution_count": null,
   "id": "6d05d41d",
   "metadata": {},
   "outputs": [],
   "source": []
  }
 ],
 "metadata": {
  "kernelspec": {
   "display_name": "Python 3",
   "language": "python",
   "name": "python3"
  },
  "language_info": {
   "codemirror_mode": {
    "name": "ipython",
    "version": 3
   },
   "file_extension": ".py",
   "mimetype": "text/x-python",
   "name": "python",
   "nbconvert_exporter": "python",
   "pygments_lexer": "ipython3",
   "version": "3.8.8"
  }
 },
 "nbformat": 4,
 "nbformat_minor": 5
}
